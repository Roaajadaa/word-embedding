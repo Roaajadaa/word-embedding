{
 "cells": [
  {
   "cell_type": "code",
   "execution_count": null,
   "id": "6a1063f1",
   "metadata": {},
   "outputs": [],
   "source": [
    "import json\n",
    "import pandas as pd\n",
    "import random\n",
    "from sklearn.metrics import accuracy_score\n",
    "import nltk\n",
    "from nltk.tokenize import word_tokenize\n",
    "from nltk.corpus import stopwords\n",
    "import string\n",
    "from gensim.models import KeyedVectors\n",
    "import numpy as np\n",
    "from scipy.spatial.distance import cosine\n",
    "import fasttext\n",
    "import gensim.downloader\n",
    "import matplotlib.pyplot as plt\n"
   ]
  },
  {
   "cell_type": "code",
   "execution_count": null,
   "id": "cf6e0e5b",
   "metadata": {},
   "outputs": [],
   "source": [
    "with open('train_rand_split.jsonl', 'r') as file:\n",
    "    data = [json.loads(line) for line in file]"
   ]
  },
  {
   "cell_type": "code",
   "execution_count": null,
   "id": "ab5051c9",
   "metadata": {},
   "outputs": [],
   "source": [
    "data"
   ]
  },
  {
   "cell_type": "code",
   "execution_count": null,
   "id": "3dda502e",
   "metadata": {},
   "outputs": [],
   "source": [
    "df = pd.DataFrame(data)"
   ]
  },
  {
   "cell_type": "code",
   "execution_count": null,
   "id": "28ae5e38",
   "metadata": {},
   "outputs": [],
   "source": [
    "df"
   ]
  },
  {
   "cell_type": "code",
   "execution_count": null,
   "id": "c2eef83e",
   "metadata": {},
   "outputs": [],
   "source": [
    "df[\"question\"][0]"
   ]
  },
  {
   "cell_type": "code",
   "execution_count": null,
   "id": "71fc5777",
   "metadata": {},
   "outputs": [],
   "source": [
    "# Extract relevant features from the question dictionary\n",
    "df['stem'] = df['question'].apply(lambda x: x['stem'])\n",
    "df['choices'] = df['question'].apply(lambda x: {choice['label']: choice['text'] for choice in x['choices']})\n",
    "\n",
    "df.drop('question', axis=1, inplace=True)\n",
    "\n",
    "df = df[['id', 'stem', 'choices', 'answerKey']]\n",
    "\n"
   ]
  },
  {
   "cell_type": "code",
   "execution_count": null,
   "id": "bdb350d4",
   "metadata": {},
   "outputs": [],
   "source": [
    "df"
   ]
  },
  {
   "cell_type": "code",
   "execution_count": null,
   "id": "055eece0",
   "metadata": {},
   "outputs": [],
   "source": [
    "df.isna().sum()"
   ]
  },
  {
   "cell_type": "code",
   "execution_count": null,
   "id": "3bbd69bb",
   "metadata": {},
   "outputs": [],
   "source": [
    "df[\"answerKey\"].unique()"
   ]
  },
  {
   "cell_type": "markdown",
   "id": "24356833",
   "metadata": {},
   "source": [
    "# Use Baseline Model => just Random Guessing"
   ]
  },
  {
   "cell_type": "code",
   "execution_count": null,
   "id": "ea791a58",
   "metadata": {},
   "outputs": [],
   "source": [
    "answer_choices = df[\"choices\"]\n",
    "\n",
    "random_predictions = [random.choice(list(choices.keys())) for choices in answer_choices]"
   ]
  },
  {
   "cell_type": "code",
   "execution_count": null,
   "id": "f563c805",
   "metadata": {},
   "outputs": [],
   "source": [
    "random_predictions"
   ]
  },
  {
   "cell_type": "markdown",
   "id": "c35abf32",
   "metadata": {},
   "source": [
    "# Compute the accuracy for this model  "
   ]
  },
  {
   "cell_type": "code",
   "execution_count": null,
   "id": "953369fb",
   "metadata": {},
   "outputs": [],
   "source": [
    "correct_answers = df[\"answerKey\"]\n",
    "accuracy_of_the_baseline_model = accuracy_score(correct_answers, random_predictions)\n",
    "print(\"Random Guessing Baseline Accuracy:\", accuracy_of_the_baseline_model)"
   ]
  },
  {
   "cell_type": "markdown",
   "id": "43e278fe",
   "metadata": {},
   "source": [
    "# Preprocessing-Phase "
   ]
  },
  {
   "cell_type": "code",
   "execution_count": null,
   "id": "15f40aa8",
   "metadata": {},
   "outputs": [],
   "source": [
    "df['tokens'] = df['stem'].apply(word_tokenize)"
   ]
  },
  {
   "cell_type": "code",
   "execution_count": null,
   "id": "9885cf14",
   "metadata": {},
   "outputs": [],
   "source": [
    "df[\"stem\"] = df['tokens']"
   ]
  },
  {
   "cell_type": "code",
   "execution_count": null,
   "id": "cb72057a",
   "metadata": {},
   "outputs": [],
   "source": [
    "df = df.drop(columns=['tokens'])"
   ]
  },
  {
   "cell_type": "code",
   "execution_count": null,
   "id": "2690cbeb",
   "metadata": {},
   "outputs": [],
   "source": [
    "# Convert all words to lowercase \n",
    "#df[\"stem\"] = df[\"stem\"].apply(lambda x: [word.lower() for word in x])"
   ]
  },
  {
   "cell_type": "code",
   "execution_count": null,
   "id": "11b8d530",
   "metadata": {},
   "outputs": [],
   "source": [
    "df[\"stem\"]"
   ]
  },
  {
   "cell_type": "markdown",
   "id": "0d33f7ff",
   "metadata": {},
   "source": [
    "# Remove Stop Words"
   ]
  },
  {
   "cell_type": "code",
   "execution_count": null,
   "id": "e887460d",
   "metadata": {},
   "outputs": [],
   "source": [
    "stop_words = set(stopwords.words('english'))"
   ]
  },
  {
   "cell_type": "code",
   "execution_count": null,
   "id": "37970154",
   "metadata": {},
   "outputs": [],
   "source": [
    "stop_words"
   ]
  },
  {
   "cell_type": "code",
   "execution_count": null,
   "id": "6ba81059",
   "metadata": {},
   "outputs": [],
   "source": [
    "# Remove stop words from the tokens\n",
    "df[\"stem\"] = df[\"stem\"].apply(lambda x: [word for word in x if word not in stop_words])"
   ]
  },
  {
   "cell_type": "code",
   "execution_count": null,
   "id": "ade088a8",
   "metadata": {},
   "outputs": [],
   "source": [
    "# Remove punctuation from the tokens\n",
    "df[\"stem\"] = df[\"stem\"].apply(lambda x: [word for word in x if word not in string.punctuation])"
   ]
  },
  {
   "cell_type": "code",
   "execution_count": null,
   "id": "657999b0",
   "metadata": {},
   "outputs": [],
   "source": [
    "df[\"stem\"][0]"
   ]
  },
  {
   "cell_type": "code",
   "execution_count": null,
   "id": "e64f43cd",
   "metadata": {},
   "outputs": [],
   "source": [
    "def tokenize_answers(choices):\n",
    "    tokenized_choices = {}\n",
    "    for key, value in choices.items(): #as a tuple \n",
    "        tokens = word_tokenize(value)  # Tokenize the answer choice\n",
    "        tokenized_choices[key] = tokens\n",
    "    return tokenized_choices"
   ]
  },
  {
   "cell_type": "code",
   "execution_count": null,
   "id": "b6ce26db",
   "metadata": {},
   "outputs": [],
   "source": [
    "df[\"choices\"] = df[\"choices\"].apply(tokenize_answers)"
   ]
  },
  {
   "cell_type": "code",
   "execution_count": null,
   "id": "86990979",
   "metadata": {},
   "outputs": [],
   "source": [
    "df[\"choices\"] "
   ]
  },
  {
   "cell_type": "markdown",
   "id": "e767f44e",
   "metadata": {},
   "source": [
    "# Load  The Models"
   ]
  },
  {
   "cell_type": "code",
   "execution_count": null,
   "id": "f5f3203a",
   "metadata": {},
   "outputs": [],
   "source": [
    "word2vec_model_path = 'C:\\\\Users\\\\IMOE001\\\\Desktop\\\\GoogleNews-vectors-negative300.bin'\n",
    "fasttext_model_path = 'C:\\\\Users\\\\IMOE001\\\\Desktop\\\\wiki-news-300d-1M.vec'"
   ]
  },
  {
   "cell_type": "code",
   "execution_count": null,
   "id": "d88a2d74",
   "metadata": {},
   "outputs": [],
   "source": [
    "glove_model = gensim.downloader.load('glove-wiki-gigaword-300')\n",
    "word2vec_model = KeyedVectors.load_word2vec_format(word2vec_model_path, binary=True)\n",
    "fasttext_model = KeyedVectors.load_word2vec_format(fasttext_model_path)"
   ]
  },
  {
   "cell_type": "code",
   "execution_count": null,
   "id": "d7ce8083",
   "metadata": {},
   "outputs": [],
   "source": [
    "# Test some words\n",
    "words_to_test = ['king','King']\n",
    "\n",
    "# Check if each word is present in the vocabulary\n",
    "for word in words_to_test:\n",
    "    if word in word2vec_model:\n",
    "        print(f\"Vector representation of '{word}': {word2vec_model[word]}\")\n",
    "    else:\n",
    "        print(f\"'{word}' is not present in the vocabulary.\")\n"
   ]
  },
  {
   "cell_type": "code",
   "execution_count": null,
   "id": "4cd6a4e2",
   "metadata": {},
   "outputs": [],
   "source": [
    "def number_of_words_without_embedding(the_column,the_column2 ,  model):\n",
    "    count = 0\n",
    "    for wordlist in the_column:\n",
    "        for word in wordlist:\n",
    "            if word not in model:\n",
    "                count += 1\n",
    "                \n",
    "    for row in the_column2 : \n",
    "        for wordlist in row.values() : \n",
    "            for word in wordlist:\n",
    "                if word not in model:\n",
    "                    count += 1\n",
    "    return count"
   ]
  },
  {
   "cell_type": "code",
   "execution_count": null,
   "id": "2b8b73e5",
   "metadata": {},
   "outputs": [],
   "source": [
    "number_of_words_without_embedding_using_word2vec = number_of_words_without_embedding(df[\"stem\"] , df[\"choices\"] ,  word2vec_model )\n",
    "number_of_words_w1ithout_embedding_using_fasttext = number_of_words_without_embedding(df[\"stem\"] ,df[\"choices\"], fasttext_model )\n",
    "number_of_words_w1ithout_embedding_using_Glove = number_of_words_without_embedding(df[\"stem\"] , df[\"choices\"] , glove_model )"
   ]
  },
  {
   "cell_type": "code",
   "execution_count": null,
   "id": "5d26345d",
   "metadata": {},
   "outputs": [],
   "source": [
    "no_of_words_without_embedding_in_each_model = [number_of_words_w1ithout_embedding_using_Glove , number_of_words_w1ithout_embedding_using_fasttext , number_of_words_without_embedding_using_word2vec]\n",
    "model_names_2 = ['GloVe', 'FastText', 'Word2Vec']\n",
    "plt.figure(figsize=(8, 6))\n",
    "\n",
    "plt.bar(model_names_2, no_of_words_without_embedding_in_each_model , color = ['#8B4513', '#A0522D', '#CD853F', '#D2691E'])\n",
    "\n",
    "plt.xlabel('Model')\n",
    "plt.ylabel('Number of words without embedding')\n",
    "plt.title('Number of words without embedding in each Model')\n",
    "\n",
    "plt.show()\n"
   ]
  },
  {
   "cell_type": "code",
   "execution_count": null,
   "id": "25da7006",
   "metadata": {},
   "outputs": [],
   "source": [
    "def convert_question_to_vector(words, model):\n",
    "    word_vectors = [] \n",
    "    for word in words:\n",
    "        if word in model:\n",
    "            word_vectors.append(model[word])\n",
    "    if word_vectors:\n",
    "        return  np.mean(word_vectors, axis=0)\n",
    "    else:\n",
    "        return  np.zeros(model.vector_size)    # Return zero vector if no words found in the model"
   ]
  },
  {
   "cell_type": "code",
   "execution_count": null,
   "id": "d33dbc93",
   "metadata": {},
   "outputs": [],
   "source": [
    "df[\"question_vectors_word2vec\"] = df[\"stem\"].apply(lambda x: convert_question_to_vector(x, word2vec_model))\n",
    "df[\"question_vectors_fasttext\"] = df[\"stem\"].apply(lambda x: convert_question_to_vector(x, fasttext_model))\n",
    "df[\"question_vectors_glove\"] = df[\"stem\"].apply(lambda x: convert_question_to_vector(x, glove_model))"
   ]
  },
  {
   "cell_type": "code",
   "execution_count": null,
   "id": "ab5a3c4c",
   "metadata": {},
   "outputs": [],
   "source": [
    "def convert_answer_to_vector(choices, model):\n",
    "    average_vectors = {}\n",
    "    for key, tokens in choices.items():\n",
    "        word_vectors = []\n",
    "        for token in tokens:\n",
    "            if token in model: \n",
    "                word_vectors.append(model[token])\n",
    "        if word_vectors:\n",
    "            average_vector = np.mean(word_vectors, axis=0)\n",
    "        else:\n",
    "            average_vector = np.zeros(model.vector_size)\n",
    "        average_vectors[key] = average_vector\n",
    "    return average_vectors"
   ]
  },
  {
   "cell_type": "code",
   "execution_count": null,
   "id": "dd4776c1",
   "metadata": {},
   "outputs": [],
   "source": [
    "df[\"answer_vectors_word2vec\"] = df[\"choices\"].apply(lambda x: convert_answer_to_vector(x, word2vec_model))\n",
    "df[\"answer_vectors_fastext\"] = df[\"choices\"].apply(lambda x: convert_answer_to_vector(x, fasttext_model))\n",
    "df[\"answer_vectors_glove\"] = df[\"choices\"].apply(lambda x: convert_answer_to_vector(x, glove_model))"
   ]
  },
  {
   "cell_type": "markdown",
   "id": "59824638",
   "metadata": {},
   "source": [
    "   # Making predictions using models "
   ]
  },
  {
   "cell_type": "code",
   "execution_count": null,
   "id": "bec55aab",
   "metadata": {},
   "outputs": [],
   "source": [
    "def cosine_similarity(x, y):\n",
    "    dot_product = np.dot(x, y)\n",
    "    \n",
    "    magnitude_x = np.sqrt(np.sum(x**2)) \n",
    "    magnitude_y = np.sqrt(np.sum(y**2))\n",
    "    \n",
    "    cosine_similarity = dot_product / (magnitude_x * magnitude_y)\n",
    "    \n",
    "    return cosine_similarity"
   ]
  },
  {
   "cell_type": "code",
   "execution_count": null,
   "id": "b9227e17",
   "metadata": {},
   "outputs": [],
   "source": [
    "#here we want the vector that give me the maxmum cosine similarity with question vector\n",
    "def get_predicted_answer(question_vector, answer_vectors):\n",
    "    max_similarity = -2\n",
    "    max_label = None\n",
    "    for label, answer_vector in answer_vectors.items():\n",
    "        similarity = cosine_similarity(question_vector, answer_vector)\n",
    "        if similarity > max_similarity:\n",
    "            max_similarity = similarity\n",
    "            max_label = label\n",
    "    return max_label"
   ]
  },
  {
   "cell_type": "code",
   "execution_count": null,
   "id": "ab24d5be",
   "metadata": {},
   "outputs": [],
   "source": [
    "predicted_answers_use_word2vec = df.apply(lambda row: get_predicted_answer(row[\"question_vectors_word2vec\"], row[\"answer_vectors_word2vec\"]), axis=1)\n",
    "predicted_answers_use_fasttex = df.apply(lambda row: get_predicted_answer(row[\"question_vectors_fasttext\"] , row[\"answer_vectors_fastext\"]), axis=1)\n",
    "predicted_answers_use_glove = df.apply(lambda row: get_predicted_answer(row[\"question_vectors_glove\"], row[\"answer_vectors_glove\"]), axis=1)"
   ]
  },
  {
   "cell_type": "code",
   "execution_count": null,
   "id": "de540e8d",
   "metadata": {},
   "outputs": [],
   "source": [
    "accuracy_of_word2vec = accuracy_score(df[\"answerKey\"], predicted_answers_use_word2vec)\n",
    "print(\"Accuracy of word2vec:\", accuracy_of_word2vec)"
   ]
  },
  {
   "cell_type": "code",
   "execution_count": null,
   "id": "fa45e1fb",
   "metadata": {},
   "outputs": [],
   "source": [
    "accuracy_of_fastext = accuracy_score(df[\"answerKey\"], predicted_answers_use_fasttex)\n",
    "print(\"Accuracy of fasttex:\", accuracy_of_fastext)"
   ]
  },
  {
   "cell_type": "code",
   "execution_count": null,
   "id": "75e60b3f",
   "metadata": {},
   "outputs": [],
   "source": [
    "predicted_answers_use_glove.fillna('A', inplace=True)"
   ]
  },
  {
   "cell_type": "code",
   "execution_count": null,
   "id": "9b317fcb",
   "metadata": {},
   "outputs": [],
   "source": [
    "accuracy_of_glove = accuracy_score(df[\"answerKey\"], predicted_answers_use_glove )\n",
    "print(\"Accuracy of glove:\", accuracy_of_glove)"
   ]
  },
  {
   "cell_type": "markdown",
   "id": "aff6920c",
   "metadata": {},
   "source": [
    "# Plot the Results "
   ]
  },
  {
   "cell_type": "code",
   "execution_count": null,
   "id": "0f3243e2",
   "metadata": {},
   "outputs": [],
   "source": [
    "the_accuracy_score_for_models = [accuracy_of_glove , accuracy_of_fastext , accuracy_of_word2vec , accuracy_of_the_baseline_model ]\n",
    "\n",
    "model_names = ['GloVe', 'FastText', 'Word2Vec', 'Baseline']\n",
    "\n",
    "plt.figure(figsize=(10, 8))\n",
    "\n",
    "plt.bar(model_names, the_accuracy_score_for_models, color = ['#FFC0CB', '#FF69B4', '#FF1493', '#DB7093'])\n",
    "\n",
    "plt.xlabel('Model')\n",
    "plt.ylabel('Accuracy')\n",
    "plt.title('Comparison of Model Accuracies')\n",
    "plt.ylim(0, 1)  # Set y-axis limit from 0 to 1 for accuracy score\n",
    "\n",
    "plt.show()\n"
   ]
  },
  {
   "cell_type": "code",
   "execution_count": null,
   "id": "ec8668ff",
   "metadata": {},
   "outputs": [],
   "source": []
  },
  {
   "cell_type": "code",
   "execution_count": null,
   "id": "0239219e",
   "metadata": {},
   "outputs": [],
   "source": []
  },
  {
   "cell_type": "code",
   "execution_count": null,
   "id": "f71df725",
   "metadata": {},
   "outputs": [],
   "source": []
  }
 ],
 "metadata": {
  "kernelspec": {
   "display_name": "Python 3 (ipykernel)",
   "language": "python",
   "name": "python3"
  },
  "language_info": {
   "codemirror_mode": {
    "name": "ipython",
    "version": 3
   },
   "file_extension": ".py",
   "mimetype": "text/x-python",
   "name": "python",
   "nbconvert_exporter": "python",
   "pygments_lexer": "ipython3",
   "version": "3.9.18"
  }
 },
 "nbformat": 4,
 "nbformat_minor": 5
}
